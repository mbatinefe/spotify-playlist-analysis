{
  "cells": [
    {
      "cell_type": "markdown",
      "id": "9b102f0d",
      "metadata": {
        "id": "9b102f0d"
      },
      "source": [
        "Use the provided file `Spotify_Playlist_Analysis.csv`.\n",
        "\n",
        "Below, you can find all the set of features, provided in the dataset:\n",
        "\n",
        "\n",
        "  1.   **Track Name:** The name of the track.\n",
        "  \n",
        "  2.   **Album Name:** The name of the album that the track belongs.\n",
        "\n",
        "  3.   **Artist Name(s):** The name of the artists who released the track.\n",
        "\n",
        "  4.   **Release Date:** The release date of the track.\n",
        "  \n",
        "  5.   **Duration (ms):** Numerical, the duration of the track in milliseconds.\n",
        "  \n",
        "  6.   **Popularity:** Numerical, the popularity of a track is a value between 0 and 100, with 100 being the most popular. The popularity is calculated by algorithm and is based, in the most part, on the total number of plays the track has had and how recent those plays are.\n",
        "  \n",
        "  7.   **Genres:** The genres of the album that the track has.\n",
        "\n",
        "  8.   **Danceability:** Numerical, danceability describes how suitable a track is for dancing based on a combination of musical elements including tempo, rhythm stability, beat strength, and overall regularity. A value of 0.0 is least danceable and 1.0 is most danceable.\n",
        "\n",
        "  9.   **Energy** Numerical, Energy is a measure from 0.0 to 1.0 and represents a perceptual measure of intensity and activity. Typically, energetic tracks feel fast, loud, and noisy. For example, death metal has high energy, while a Bach prelude scores low on the scale. Perceptual features contributing to this attribute include dynamic range, perceived loudness, timbre, onset rate, and general entropy.\n",
        "  \n",
        "  10.   **Key:** Numerical, the estimated overall key of the track. Integers map to pitches using standard Pitch Class notation . E.g. 0 = C, 1 = C#/Db, 2 = D, and so on. If no key was detected, the value is -1.\n",
        "  \n",
        "  11.   **Loudness:** Numerical, Overall loudness of a track in decibels (dB). Loudness values are averaged across the entire track and are useful for comparing relative loudness of tracks. Loudness is the quality of a sound that is the primary psychological correlate of physical strength (amplitude). Values typical range between -60 and 0 db.\n",
        "  \n",
        "  12.   **Mode:** Numerical, mode indicates the modality (major or minor) of a track, the type of scale from which its melodic content is derived. Major is represented by 1 and minor is 0.\n",
        "  \n",
        "  13.   **Speechiness:**  Numerical, speechiness detects the presence of spoken words in a track. The more exclusively speech-like the recording (e.g. talk show, audio book, poetry), the closer to 1.0 the attribute value. Values above 0.66 describe tracks that are probably made entirely of spoken words. Values between 0.33 and 0.66 describe tracks that may contain both music and speech, either in sections or layered, including such cases as rap music. Values below 0.33 most likely represent music and other non-speech-like tracks.\n",
        "\n",
        "  14.   **Acousticness:**  Numerical, Confidence measure from 0.0 to 1.0 of whether the track is acoustic. 1.0 represents high confidence the track is acoustic.\n",
        "\n",
        "  15.   **Instrumentalness** Numerical, predicts whether a track contains no vocals. “Ooh” and “aah” sounds are treated as instrumental in this context. Rap or spoken word tracks are clearly “vocal”. The closer the instrumentalness value is to 1.0, the greater likelihood the track contains no vocal content. Values above 0.5 are intended to represent instrumental tracks, but confidence is higher as the value approaches 1.0.\n",
        "  \n",
        "  16.   **Liveness:** Numerical, detects the presence of an audience in the recording. Higher liveness values represent an increased probability that the track was performed live. A value above 0.8 provides strong likelihood that the track is live.\n",
        "  \n",
        "  17.   **Valence:** Numerical, Measure from 0.0 to 1.0 describing the musical positiveness conveyed by a track. Tracks with high valence sound more positive (e.g. happy, cheerful, euphoric), while tracks with low valence sound more negative (e.g. sad, depressed, angry).\n",
        "  \n",
        "  18.   **Tempo:**  Numerical, Overall estimated tempo of a track in beats per minute (BPM). In musical terminology, tempo is the speed or pace of a given piece and derives directly from the average beat duration.\n",
        "\n"
      ]
    },
    {
      "cell_type": "code",
      "execution_count": null,
      "id": "358bd436",
      "metadata": {
        "id": "358bd436"
      },
      "outputs": [],
      "source": [
        "import pandas as pd\n",
        "import numpy as np\n",
        "import matplotlib.pyplot as plt\n",
        "import seaborn as sns"
      ]
    },
    {
      "cell_type": "markdown",
      "id": "1a0403bd",
      "metadata": {
        "id": "1a0403bd"
      },
      "source": [
        "## Data Cleaning"
      ]
    },
    {
      "cell_type": "markdown",
      "id": "ad730258",
      "metadata": {
        "id": "ad730258"
      },
      "source": [
        "It is not possible to find a perfect dataset. During data collection, some values can be lost or some values can be duplicated. These lost values are called as missing values. In the DataFrame, missing values are usually labelled as `NaN`. Before starting to work on our dataset, it is very important to clean the dataset. For this, we need to look at how many missing values we have in the data set, how many duplicates there are.\n",
        "\n",
        "In this question;\n",
        "* First, print the shape (Number of rows and columns) of the dataset.\n",
        "* Secondly, you should show info of the dataset (#,column, non_null count, Dtype of columns) , this will also help to understand if dataframe has any missing values.\n",
        "* Lastly, you should check if dataframe has any duplicates, and you should drop the duplicates if any."
      ]
    },
    {
      "cell_type": "code",
      "execution_count": null,
      "id": "f44b54d7",
      "metadata": {
        "colab": {
          "base_uri": "https://localhost:8080/"
        },
        "id": "f44b54d7",
        "outputId": "5f214b0f-3081-4ae1-cce5-dc5a84045e5d"
      },
      "outputs": [
        {
          "output_type": "stream",
          "name": "stdout",
          "text": [
            "Number of (rows and columns): (607, 18)\n"
          ]
        }
      ],
      "source": [
        "#read the file.\n",
        "path = \"/content/\"\n",
        "filename = \"Spotify_Playlist_Analysis.csv\"\n",
        "\n",
        "df=pd.read_csv(path+filename)\n",
        "#print number of the rows and columns.\n",
        "print(\"Number of (rows and columns):\",df.shape)"
      ]
    },
    {
      "cell_type": "code",
      "execution_count": null,
      "id": "1718dfa6",
      "metadata": {
        "colab": {
          "base_uri": "https://localhost:8080/"
        },
        "id": "1718dfa6",
        "outputId": "43e966f7-b03b-4023-8324-87e766c21855"
      },
      "outputs": [
        {
          "output_type": "stream",
          "name": "stdout",
          "text": [
            "<class 'pandas.core.frame.DataFrame'>\n",
            "RangeIndex: 607 entries, 0 to 606\n",
            "Data columns (total 18 columns):\n",
            " #   Column            Non-Null Count  Dtype  \n",
            "---  ------            --------------  -----  \n",
            " 0   Track Name        607 non-null    object \n",
            " 1   Album Name        607 non-null    object \n",
            " 2   Artist Name(s)    607 non-null    object \n",
            " 3   Release Date      607 non-null    object \n",
            " 4   Duration (ms)     607 non-null    int64  \n",
            " 5   Popularity        607 non-null    int64  \n",
            " 6   Genres            603 non-null    object \n",
            " 7   Danceability      607 non-null    float64\n",
            " 8   Energy            607 non-null    float64\n",
            " 9   Key               607 non-null    int64  \n",
            " 10  Loudness          607 non-null    float64\n",
            " 11  Mode              607 non-null    int64  \n",
            " 12  Speechiness       607 non-null    float64\n",
            " 13  Acousticness      607 non-null    float64\n",
            " 14  Instrumentalness  607 non-null    float64\n",
            " 15  Liveness          607 non-null    float64\n",
            " 16  Valence           607 non-null    float64\n",
            " 17  Tempo             607 non-null    float64\n",
            "dtypes: float64(9), int64(4), object(5)\n",
            "memory usage: 85.5+ KB\n"
          ]
        }
      ],
      "source": [
        "#show the info of the playlist_df.\n",
        "df.info()"
      ]
    },
    {
      "cell_type": "markdown",
      "id": "30287f22",
      "metadata": {
        "id": "30287f22"
      },
      "source": [
        "When we control the result, number of non-null objects is equals to number of rows. This means there are no missing rows in our dataset, so don't need to do any operation here. Now let's filter the duplicate rows."
      ]
    },
    {
      "cell_type": "code",
      "execution_count": null,
      "id": "938abd6d",
      "metadata": {
        "colab": {
          "base_uri": "https://localhost:8080/",
          "height": 591
        },
        "id": "938abd6d",
        "outputId": "a7809ec6-a478-4126-dda6-83b6c091de4f"
      },
      "outputs": [
        {
          "output_type": "execute_result",
          "data": {
            "text/plain": [
              "                     Track Name  \\\n",
              "540                  Simple Man   \n",
              "541             Battle Symphony   \n",
              "542  we fell in love in october   \n",
              "543          Moaning Lisa Smile   \n",
              "544                 zombie girl   \n",
              "\n",
              "                                            Album Name   Artist Name(s)  \\\n",
              "540  (Pronounced 'Leh-'Nérd 'Skin-'Nérd) [Expanded ...   Lynyrd Skynyrd   \n",
              "541                                     One More Light      Linkin Park   \n",
              "542            we fell in love in october / forget her      girl in red   \n",
              "543                   My Love Is Cool (Deluxe Edition)       Wolf Alice   \n",
              "544                                              songs  Adrianne Lenker   \n",
              "\n",
              "    Release Date  Duration (ms)  Popularity  \\\n",
              "540         1973         357933           0   \n",
              "541   2017-05-19         216281          62   \n",
              "542   2018-11-21         184153          32   \n",
              "543   2016-02-05         160747          48   \n",
              "544   2020-10-23         164224          48   \n",
              "\n",
              "                                                Genres  Danceability  Energy  \\\n",
              "540  album rock,blues rock,classic rock,country roc...         0.461   0.734   \n",
              "541   alternative metal,nu metal,post-grunge,rap metal         0.653   0.839   \n",
              "542          bedroom pop,indie pop,norwegian indie,pop         0.566   0.366   \n",
              "543  indie pop,indie rock,modern alternative rock,m...         0.470   0.806   \n",
              "544  art pop,chamber pop,indie folk,indie pop,indie...         0.538   0.103   \n",
              "\n",
              "     Key  Loudness  Mode  Speechiness  Acousticness  Instrumentalness  \\\n",
              "540    1    -9.379     1       0.0374      0.000790          0.005540   \n",
              "541   10    -5.077     1       0.0685      0.036900          0.000000   \n",
              "542    7   -12.808     1       0.0280      0.113000          0.181000   \n",
              "543    2    -2.920     1       0.0505      0.000575          0.056400   \n",
              "544    8   -19.380     1       0.0462      0.914000          0.000053   \n",
              "\n",
              "     Liveness  Valence    Tempo  \n",
              "540    0.2200    0.423  120.550  \n",
              "541    0.0680    0.669  149.034  \n",
              "542    0.1550    0.237  129.959  \n",
              "543    0.0917    0.339   98.046  \n",
              "544    0.1370    0.383  128.424  "
            ],
            "text/html": [
              "\n",
              "  <div id=\"df-532e8e18-a967-404f-8caf-0d63fdff084f\">\n",
              "    <div class=\"colab-df-container\">\n",
              "      <div>\n",
              "<style scoped>\n",
              "    .dataframe tbody tr th:only-of-type {\n",
              "        vertical-align: middle;\n",
              "    }\n",
              "\n",
              "    .dataframe tbody tr th {\n",
              "        vertical-align: top;\n",
              "    }\n",
              "\n",
              "    .dataframe thead th {\n",
              "        text-align: right;\n",
              "    }\n",
              "</style>\n",
              "<table border=\"1\" class=\"dataframe\">\n",
              "  <thead>\n",
              "    <tr style=\"text-align: right;\">\n",
              "      <th></th>\n",
              "      <th>Track Name</th>\n",
              "      <th>Album Name</th>\n",
              "      <th>Artist Name(s)</th>\n",
              "      <th>Release Date</th>\n",
              "      <th>Duration (ms)</th>\n",
              "      <th>Popularity</th>\n",
              "      <th>Genres</th>\n",
              "      <th>Danceability</th>\n",
              "      <th>Energy</th>\n",
              "      <th>Key</th>\n",
              "      <th>Loudness</th>\n",
              "      <th>Mode</th>\n",
              "      <th>Speechiness</th>\n",
              "      <th>Acousticness</th>\n",
              "      <th>Instrumentalness</th>\n",
              "      <th>Liveness</th>\n",
              "      <th>Valence</th>\n",
              "      <th>Tempo</th>\n",
              "    </tr>\n",
              "  </thead>\n",
              "  <tbody>\n",
              "    <tr>\n",
              "      <th>540</th>\n",
              "      <td>Simple Man</td>\n",
              "      <td>(Pronounced 'Leh-'Nérd 'Skin-'Nérd) [Expanded ...</td>\n",
              "      <td>Lynyrd Skynyrd</td>\n",
              "      <td>1973</td>\n",
              "      <td>357933</td>\n",
              "      <td>0</td>\n",
              "      <td>album rock,blues rock,classic rock,country roc...</td>\n",
              "      <td>0.461</td>\n",
              "      <td>0.734</td>\n",
              "      <td>1</td>\n",
              "      <td>-9.379</td>\n",
              "      <td>1</td>\n",
              "      <td>0.0374</td>\n",
              "      <td>0.000790</td>\n",
              "      <td>0.005540</td>\n",
              "      <td>0.2200</td>\n",
              "      <td>0.423</td>\n",
              "      <td>120.550</td>\n",
              "    </tr>\n",
              "    <tr>\n",
              "      <th>541</th>\n",
              "      <td>Battle Symphony</td>\n",
              "      <td>One More Light</td>\n",
              "      <td>Linkin Park</td>\n",
              "      <td>2017-05-19</td>\n",
              "      <td>216281</td>\n",
              "      <td>62</td>\n",
              "      <td>alternative metal,nu metal,post-grunge,rap metal</td>\n",
              "      <td>0.653</td>\n",
              "      <td>0.839</td>\n",
              "      <td>10</td>\n",
              "      <td>-5.077</td>\n",
              "      <td>1</td>\n",
              "      <td>0.0685</td>\n",
              "      <td>0.036900</td>\n",
              "      <td>0.000000</td>\n",
              "      <td>0.0680</td>\n",
              "      <td>0.669</td>\n",
              "      <td>149.034</td>\n",
              "    </tr>\n",
              "    <tr>\n",
              "      <th>542</th>\n",
              "      <td>we fell in love in october</td>\n",
              "      <td>we fell in love in october / forget her</td>\n",
              "      <td>girl in red</td>\n",
              "      <td>2018-11-21</td>\n",
              "      <td>184153</td>\n",
              "      <td>32</td>\n",
              "      <td>bedroom pop,indie pop,norwegian indie,pop</td>\n",
              "      <td>0.566</td>\n",
              "      <td>0.366</td>\n",
              "      <td>7</td>\n",
              "      <td>-12.808</td>\n",
              "      <td>1</td>\n",
              "      <td>0.0280</td>\n",
              "      <td>0.113000</td>\n",
              "      <td>0.181000</td>\n",
              "      <td>0.1550</td>\n",
              "      <td>0.237</td>\n",
              "      <td>129.959</td>\n",
              "    </tr>\n",
              "    <tr>\n",
              "      <th>543</th>\n",
              "      <td>Moaning Lisa Smile</td>\n",
              "      <td>My Love Is Cool (Deluxe Edition)</td>\n",
              "      <td>Wolf Alice</td>\n",
              "      <td>2016-02-05</td>\n",
              "      <td>160747</td>\n",
              "      <td>48</td>\n",
              "      <td>indie pop,indie rock,modern alternative rock,m...</td>\n",
              "      <td>0.470</td>\n",
              "      <td>0.806</td>\n",
              "      <td>2</td>\n",
              "      <td>-2.920</td>\n",
              "      <td>1</td>\n",
              "      <td>0.0505</td>\n",
              "      <td>0.000575</td>\n",
              "      <td>0.056400</td>\n",
              "      <td>0.0917</td>\n",
              "      <td>0.339</td>\n",
              "      <td>98.046</td>\n",
              "    </tr>\n",
              "    <tr>\n",
              "      <th>544</th>\n",
              "      <td>zombie girl</td>\n",
              "      <td>songs</td>\n",
              "      <td>Adrianne Lenker</td>\n",
              "      <td>2020-10-23</td>\n",
              "      <td>164224</td>\n",
              "      <td>48</td>\n",
              "      <td>art pop,chamber pop,indie folk,indie pop,indie...</td>\n",
              "      <td>0.538</td>\n",
              "      <td>0.103</td>\n",
              "      <td>8</td>\n",
              "      <td>-19.380</td>\n",
              "      <td>1</td>\n",
              "      <td>0.0462</td>\n",
              "      <td>0.914000</td>\n",
              "      <td>0.000053</td>\n",
              "      <td>0.1370</td>\n",
              "      <td>0.383</td>\n",
              "      <td>128.424</td>\n",
              "    </tr>\n",
              "  </tbody>\n",
              "</table>\n",
              "</div>\n",
              "      <button class=\"colab-df-convert\" onclick=\"convertToInteractive('df-532e8e18-a967-404f-8caf-0d63fdff084f')\"\n",
              "              title=\"Convert this dataframe to an interactive table.\"\n",
              "              style=\"display:none;\">\n",
              "        \n",
              "  <svg xmlns=\"http://www.w3.org/2000/svg\" height=\"24px\"viewBox=\"0 0 24 24\"\n",
              "       width=\"24px\">\n",
              "    <path d=\"M0 0h24v24H0V0z\" fill=\"none\"/>\n",
              "    <path d=\"M18.56 5.44l.94 2.06.94-2.06 2.06-.94-2.06-.94-.94-2.06-.94 2.06-2.06.94zm-11 1L8.5 8.5l.94-2.06 2.06-.94-2.06-.94L8.5 2.5l-.94 2.06-2.06.94zm10 10l.94 2.06.94-2.06 2.06-.94-2.06-.94-.94-2.06-.94 2.06-2.06.94z\"/><path d=\"M17.41 7.96l-1.37-1.37c-.4-.4-.92-.59-1.43-.59-.52 0-1.04.2-1.43.59L10.3 9.45l-7.72 7.72c-.78.78-.78 2.05 0 2.83L4 21.41c.39.39.9.59 1.41.59.51 0 1.02-.2 1.41-.59l7.78-7.78 2.81-2.81c.8-.78.8-2.07 0-2.86zM5.41 20L4 18.59l7.72-7.72 1.47 1.35L5.41 20z\"/>\n",
              "  </svg>\n",
              "      </button>\n",
              "      \n",
              "  <style>\n",
              "    .colab-df-container {\n",
              "      display:flex;\n",
              "      flex-wrap:wrap;\n",
              "      gap: 12px;\n",
              "    }\n",
              "\n",
              "    .colab-df-convert {\n",
              "      background-color: #E8F0FE;\n",
              "      border: none;\n",
              "      border-radius: 50%;\n",
              "      cursor: pointer;\n",
              "      display: none;\n",
              "      fill: #1967D2;\n",
              "      height: 32px;\n",
              "      padding: 0 0 0 0;\n",
              "      width: 32px;\n",
              "    }\n",
              "\n",
              "    .colab-df-convert:hover {\n",
              "      background-color: #E2EBFA;\n",
              "      box-shadow: 0px 1px 2px rgba(60, 64, 67, 0.3), 0px 1px 3px 1px rgba(60, 64, 67, 0.15);\n",
              "      fill: #174EA6;\n",
              "    }\n",
              "\n",
              "    [theme=dark] .colab-df-convert {\n",
              "      background-color: #3B4455;\n",
              "      fill: #D2E3FC;\n",
              "    }\n",
              "\n",
              "    [theme=dark] .colab-df-convert:hover {\n",
              "      background-color: #434B5C;\n",
              "      box-shadow: 0px 1px 3px 1px rgba(0, 0, 0, 0.15);\n",
              "      filter: drop-shadow(0px 1px 2px rgba(0, 0, 0, 0.3));\n",
              "      fill: #FFFFFF;\n",
              "    }\n",
              "  </style>\n",
              "\n",
              "      <script>\n",
              "        const buttonEl =\n",
              "          document.querySelector('#df-532e8e18-a967-404f-8caf-0d63fdff084f button.colab-df-convert');\n",
              "        buttonEl.style.display =\n",
              "          google.colab.kernel.accessAllowed ? 'block' : 'none';\n",
              "\n",
              "        async function convertToInteractive(key) {\n",
              "          const element = document.querySelector('#df-532e8e18-a967-404f-8caf-0d63fdff084f');\n",
              "          const dataTable =\n",
              "            await google.colab.kernel.invokeFunction('convertToInteractive',\n",
              "                                                     [key], {});\n",
              "          if (!dataTable) return;\n",
              "\n",
              "          const docLinkHtml = 'Like what you see? Visit the ' +\n",
              "            '<a target=\"_blank\" href=https://colab.research.google.com/notebooks/data_table.ipynb>data table notebook</a>'\n",
              "            + ' to learn more about interactive tables.';\n",
              "          element.innerHTML = '';\n",
              "          dataTable['output_type'] = 'display_data';\n",
              "          await google.colab.output.renderOutput(dataTable, element);\n",
              "          const docLink = document.createElement('div');\n",
              "          docLink.innerHTML = docLinkHtml;\n",
              "          element.appendChild(docLink);\n",
              "        }\n",
              "      </script>\n",
              "    </div>\n",
              "  </div>\n",
              "  "
            ]
          },
          "metadata": {},
          "execution_count": 31
        }
      ],
      "source": [
        "#filter the duplicate rows and show the head.\n",
        "duplicate = df[df.duplicated()]\n",
        "\n",
        "duplicate.head()"
      ]
    },
    {
      "cell_type": "markdown",
      "id": "62cda7b3",
      "metadata": {
        "id": "62cda7b3"
      },
      "source": [
        "As you see above, there are some duplicate rows in our dataset. The duplicate values can be an issue in our analysis, so it's important to get rid of them. In below cell, first drop the duplicates then print the shape and see if the shape at the start changed or not."
      ]
    },
    {
      "cell_type": "code",
      "execution_count": null,
      "id": "f54efab1",
      "metadata": {
        "id": "f54efab1",
        "colab": {
          "base_uri": "https://localhost:8080/"
        },
        "outputId": "92b85b76-4355-4e7a-d4d3-ddad951b7e30"
      },
      "outputs": [
        {
          "output_type": "stream",
          "name": "stdout",
          "text": [
            "Number of (rows and columns): (594, 18)\n"
          ]
        }
      ],
      "source": [
        "#drop the duplicates.\n",
        "df = df.drop_duplicates()\n",
        "#print number of the rows and columns after dropping duplicates.\n",
        "print(\"Number of (rows and columns):\",df.shape)"
      ]
    },
    {
      "cell_type": "markdown",
      "id": "a7b79210",
      "metadata": {
        "id": "a7b79210"
      },
      "source": [
        "Sometimes, you may fail to drop the duplicates. Double-check is important in these kind of cases therefore in the cell below, filter the duplicate rows again. If you see anything, then you did something wrong."
      ]
    },
    {
      "cell_type": "code",
      "execution_count": null,
      "id": "1c6fcee3",
      "metadata": {
        "id": "1c6fcee3",
        "colab": {
          "base_uri": "https://localhost:8080/"
        },
        "outputId": "de6559f0-1d9e-45f7-9cfc-f3109d7302b0"
      },
      "outputs": [
        {
          "output_type": "stream",
          "name": "stdout",
          "text": [
            "Empty DataFrame\n",
            "Columns: [Track Name, Album Name, Artist Name(s), Release Date, Duration (ms), Popularity, Genres, Danceability, Energy, Key, Loudness, Mode, Speechiness, Acousticness, Instrumentalness, Liveness, Valence, Tempo]\n",
            "Index: []\n"
          ]
        }
      ],
      "source": [
        "#filter the duplicate rows.\n",
        "duplicate2 = df[df.duplicated()]\n",
        "\n",
        "print(duplicate2)"
      ]
    },
    {
      "cell_type": "markdown",
      "id": "cd16bd0e",
      "metadata": {
        "id": "cd16bd0e"
      },
      "source": [
        "## Exploring the Dataset"
      ]
    },
    {
      "cell_type": "markdown",
      "id": "5062af49",
      "metadata": {
        "id": "5062af49"
      },
      "source": [
        "Since we complete the cleaning, we can finally start deep-diving into the dataset. First let's look at the 5 rows of our dataframe, and see the statistical summaries of columns with describe."
      ]
    },
    {
      "cell_type": "code",
      "execution_count": null,
      "id": "40473551",
      "metadata": {
        "id": "40473551",
        "colab": {
          "base_uri": "https://localhost:8080/",
          "height": 506
        },
        "outputId": "47323169-a850-43ee-900c-5c41a037bf93"
      },
      "outputs": [
        {
          "output_type": "execute_result",
          "data": {
            "text/plain": [
              "         Track Name                                 Album Name  \\\n",
              "0  Crying Lightning                                     Humbug   \n",
              "1   Ode To The Mets                           The New Abnormal   \n",
              "2    Buzzcut Season                               Pure Heroine   \n",
              "3    I Know The End                                   Punisher   \n",
              "4  Simulation Swarm  Dragon New Warm Mountain I Believe In You   \n",
              "\n",
              "    Artist Name(s) Release Date  Duration (ms)  Popularity  \\\n",
              "0   Arctic Monkeys   2009-08-20         224826          67   \n",
              "1      The Strokes   2020-04-10         351786          64   \n",
              "2            Lorde   2013-09-27         246755          68   \n",
              "3  Phoebe Bridgers   2020-06-18         344692           0   \n",
              "4        Big Thief   2022-02-11         252733          62   \n",
              "\n",
              "                                              Genres  Danceability  Energy  \\\n",
              "0  garage rock,modern rock,permanent wave,rock,sh...         0.498   0.885   \n",
              "1  alternative rock,garage rock,modern rock,perma...         0.426   0.617   \n",
              "2                    art pop,metropopolis,nz pop,pop         0.733   0.620   \n",
              "3                                 indie pop,la indie         0.328   0.320   \n",
              "4  art pop,brooklyn indie,indie pop,indie rock,sm...         0.703   0.578   \n",
              "\n",
              "   Key  Loudness  Mode  Speechiness  Acousticness  Instrumentalness  Liveness  \\\n",
              "0    4    -4.423     0       0.0461        0.0148           0.00041     0.239   \n",
              "1    1    -5.423     0       0.0289        0.3410           0.18100     0.101   \n",
              "2    1   -10.525     1       0.0750        0.6060           0.30500     0.117   \n",
              "3    1   -10.282     1       0.0350        0.3240           0.01900     0.234   \n",
              "4    1    -9.103     1       0.0728        0.4460           0.00240     0.102   \n",
              "\n",
              "   Valence    Tempo  \n",
              "0    0.670  106.719  \n",
              "1    0.201   92.002  \n",
              "2    0.247  111.039  \n",
              "3    0.259  111.453  \n",
              "4    0.670  105.204  "
            ],
            "text/html": [
              "\n",
              "  <div id=\"df-56fdbc3c-19a0-40b4-a361-9309c7080713\">\n",
              "    <div class=\"colab-df-container\">\n",
              "      <div>\n",
              "<style scoped>\n",
              "    .dataframe tbody tr th:only-of-type {\n",
              "        vertical-align: middle;\n",
              "    }\n",
              "\n",
              "    .dataframe tbody tr th {\n",
              "        vertical-align: top;\n",
              "    }\n",
              "\n",
              "    .dataframe thead th {\n",
              "        text-align: right;\n",
              "    }\n",
              "</style>\n",
              "<table border=\"1\" class=\"dataframe\">\n",
              "  <thead>\n",
              "    <tr style=\"text-align: right;\">\n",
              "      <th></th>\n",
              "      <th>Track Name</th>\n",
              "      <th>Album Name</th>\n",
              "      <th>Artist Name(s)</th>\n",
              "      <th>Release Date</th>\n",
              "      <th>Duration (ms)</th>\n",
              "      <th>Popularity</th>\n",
              "      <th>Genres</th>\n",
              "      <th>Danceability</th>\n",
              "      <th>Energy</th>\n",
              "      <th>Key</th>\n",
              "      <th>Loudness</th>\n",
              "      <th>Mode</th>\n",
              "      <th>Speechiness</th>\n",
              "      <th>Acousticness</th>\n",
              "      <th>Instrumentalness</th>\n",
              "      <th>Liveness</th>\n",
              "      <th>Valence</th>\n",
              "      <th>Tempo</th>\n",
              "    </tr>\n",
              "  </thead>\n",
              "  <tbody>\n",
              "    <tr>\n",
              "      <th>0</th>\n",
              "      <td>Crying Lightning</td>\n",
              "      <td>Humbug</td>\n",
              "      <td>Arctic Monkeys</td>\n",
              "      <td>2009-08-20</td>\n",
              "      <td>224826</td>\n",
              "      <td>67</td>\n",
              "      <td>garage rock,modern rock,permanent wave,rock,sh...</td>\n",
              "      <td>0.498</td>\n",
              "      <td>0.885</td>\n",
              "      <td>4</td>\n",
              "      <td>-4.423</td>\n",
              "      <td>0</td>\n",
              "      <td>0.0461</td>\n",
              "      <td>0.0148</td>\n",
              "      <td>0.00041</td>\n",
              "      <td>0.239</td>\n",
              "      <td>0.670</td>\n",
              "      <td>106.719</td>\n",
              "    </tr>\n",
              "    <tr>\n",
              "      <th>1</th>\n",
              "      <td>Ode To The Mets</td>\n",
              "      <td>The New Abnormal</td>\n",
              "      <td>The Strokes</td>\n",
              "      <td>2020-04-10</td>\n",
              "      <td>351786</td>\n",
              "      <td>64</td>\n",
              "      <td>alternative rock,garage rock,modern rock,perma...</td>\n",
              "      <td>0.426</td>\n",
              "      <td>0.617</td>\n",
              "      <td>1</td>\n",
              "      <td>-5.423</td>\n",
              "      <td>0</td>\n",
              "      <td>0.0289</td>\n",
              "      <td>0.3410</td>\n",
              "      <td>0.18100</td>\n",
              "      <td>0.101</td>\n",
              "      <td>0.201</td>\n",
              "      <td>92.002</td>\n",
              "    </tr>\n",
              "    <tr>\n",
              "      <th>2</th>\n",
              "      <td>Buzzcut Season</td>\n",
              "      <td>Pure Heroine</td>\n",
              "      <td>Lorde</td>\n",
              "      <td>2013-09-27</td>\n",
              "      <td>246755</td>\n",
              "      <td>68</td>\n",
              "      <td>art pop,metropopolis,nz pop,pop</td>\n",
              "      <td>0.733</td>\n",
              "      <td>0.620</td>\n",
              "      <td>1</td>\n",
              "      <td>-10.525</td>\n",
              "      <td>1</td>\n",
              "      <td>0.0750</td>\n",
              "      <td>0.6060</td>\n",
              "      <td>0.30500</td>\n",
              "      <td>0.117</td>\n",
              "      <td>0.247</td>\n",
              "      <td>111.039</td>\n",
              "    </tr>\n",
              "    <tr>\n",
              "      <th>3</th>\n",
              "      <td>I Know The End</td>\n",
              "      <td>Punisher</td>\n",
              "      <td>Phoebe Bridgers</td>\n",
              "      <td>2020-06-18</td>\n",
              "      <td>344692</td>\n",
              "      <td>0</td>\n",
              "      <td>indie pop,la indie</td>\n",
              "      <td>0.328</td>\n",
              "      <td>0.320</td>\n",
              "      <td>1</td>\n",
              "      <td>-10.282</td>\n",
              "      <td>1</td>\n",
              "      <td>0.0350</td>\n",
              "      <td>0.3240</td>\n",
              "      <td>0.01900</td>\n",
              "      <td>0.234</td>\n",
              "      <td>0.259</td>\n",
              "      <td>111.453</td>\n",
              "    </tr>\n",
              "    <tr>\n",
              "      <th>4</th>\n",
              "      <td>Simulation Swarm</td>\n",
              "      <td>Dragon New Warm Mountain I Believe In You</td>\n",
              "      <td>Big Thief</td>\n",
              "      <td>2022-02-11</td>\n",
              "      <td>252733</td>\n",
              "      <td>62</td>\n",
              "      <td>art pop,brooklyn indie,indie pop,indie rock,sm...</td>\n",
              "      <td>0.703</td>\n",
              "      <td>0.578</td>\n",
              "      <td>1</td>\n",
              "      <td>-9.103</td>\n",
              "      <td>1</td>\n",
              "      <td>0.0728</td>\n",
              "      <td>0.4460</td>\n",
              "      <td>0.00240</td>\n",
              "      <td>0.102</td>\n",
              "      <td>0.670</td>\n",
              "      <td>105.204</td>\n",
              "    </tr>\n",
              "  </tbody>\n",
              "</table>\n",
              "</div>\n",
              "      <button class=\"colab-df-convert\" onclick=\"convertToInteractive('df-56fdbc3c-19a0-40b4-a361-9309c7080713')\"\n",
              "              title=\"Convert this dataframe to an interactive table.\"\n",
              "              style=\"display:none;\">\n",
              "        \n",
              "  <svg xmlns=\"http://www.w3.org/2000/svg\" height=\"24px\"viewBox=\"0 0 24 24\"\n",
              "       width=\"24px\">\n",
              "    <path d=\"M0 0h24v24H0V0z\" fill=\"none\"/>\n",
              "    <path d=\"M18.56 5.44l.94 2.06.94-2.06 2.06-.94-2.06-.94-.94-2.06-.94 2.06-2.06.94zm-11 1L8.5 8.5l.94-2.06 2.06-.94-2.06-.94L8.5 2.5l-.94 2.06-2.06.94zm10 10l.94 2.06.94-2.06 2.06-.94-2.06-.94-.94-2.06-.94 2.06-2.06.94z\"/><path d=\"M17.41 7.96l-1.37-1.37c-.4-.4-.92-.59-1.43-.59-.52 0-1.04.2-1.43.59L10.3 9.45l-7.72 7.72c-.78.78-.78 2.05 0 2.83L4 21.41c.39.39.9.59 1.41.59.51 0 1.02-.2 1.41-.59l7.78-7.78 2.81-2.81c.8-.78.8-2.07 0-2.86zM5.41 20L4 18.59l7.72-7.72 1.47 1.35L5.41 20z\"/>\n",
              "  </svg>\n",
              "      </button>\n",
              "      \n",
              "  <style>\n",
              "    .colab-df-container {\n",
              "      display:flex;\n",
              "      flex-wrap:wrap;\n",
              "      gap: 12px;\n",
              "    }\n",
              "\n",
              "    .colab-df-convert {\n",
              "      background-color: #E8F0FE;\n",
              "      border: none;\n",
              "      border-radius: 50%;\n",
              "      cursor: pointer;\n",
              "      display: none;\n",
              "      fill: #1967D2;\n",
              "      height: 32px;\n",
              "      padding: 0 0 0 0;\n",
              "      width: 32px;\n",
              "    }\n",
              "\n",
              "    .colab-df-convert:hover {\n",
              "      background-color: #E2EBFA;\n",
              "      box-shadow: 0px 1px 2px rgba(60, 64, 67, 0.3), 0px 1px 3px 1px rgba(60, 64, 67, 0.15);\n",
              "      fill: #174EA6;\n",
              "    }\n",
              "\n",
              "    [theme=dark] .colab-df-convert {\n",
              "      background-color: #3B4455;\n",
              "      fill: #D2E3FC;\n",
              "    }\n",
              "\n",
              "    [theme=dark] .colab-df-convert:hover {\n",
              "      background-color: #434B5C;\n",
              "      box-shadow: 0px 1px 3px 1px rgba(0, 0, 0, 0.15);\n",
              "      filter: drop-shadow(0px 1px 2px rgba(0, 0, 0, 0.3));\n",
              "      fill: #FFFFFF;\n",
              "    }\n",
              "  </style>\n",
              "\n",
              "      <script>\n",
              "        const buttonEl =\n",
              "          document.querySelector('#df-56fdbc3c-19a0-40b4-a361-9309c7080713 button.colab-df-convert');\n",
              "        buttonEl.style.display =\n",
              "          google.colab.kernel.accessAllowed ? 'block' : 'none';\n",
              "\n",
              "        async function convertToInteractive(key) {\n",
              "          const element = document.querySelector('#df-56fdbc3c-19a0-40b4-a361-9309c7080713');\n",
              "          const dataTable =\n",
              "            await google.colab.kernel.invokeFunction('convertToInteractive',\n",
              "                                                     [key], {});\n",
              "          if (!dataTable) return;\n",
              "\n",
              "          const docLinkHtml = 'Like what you see? Visit the ' +\n",
              "            '<a target=\"_blank\" href=https://colab.research.google.com/notebooks/data_table.ipynb>data table notebook</a>'\n",
              "            + ' to learn more about interactive tables.';\n",
              "          element.innerHTML = '';\n",
              "          dataTable['output_type'] = 'display_data';\n",
              "          await google.colab.output.renderOutput(dataTable, element);\n",
              "          const docLink = document.createElement('div');\n",
              "          docLink.innerHTML = docLinkHtml;\n",
              "          element.appendChild(docLink);\n",
              "        }\n",
              "      </script>\n",
              "    </div>\n",
              "  </div>\n",
              "  "
            ]
          },
          "metadata": {},
          "execution_count": 34
        }
      ],
      "source": [
        "#show the first 5 rows\n",
        "df.head()"
      ]
    },
    {
      "cell_type": "code",
      "execution_count": null,
      "id": "b7dac89e",
      "metadata": {
        "id": "b7dac89e",
        "colab": {
          "base_uri": "https://localhost:8080/",
          "height": 378
        },
        "outputId": "679dcfc7-7184-4c8a-a7f0-5fdd9883b6f7"
      },
      "outputs": [
        {
          "output_type": "execute_result",
          "data": {
            "text/plain": [
              "       Duration (ms)  Popularity  Danceability      Energy         Key  \\\n",
              "count     594.000000  594.000000    594.000000  594.000000  594.000000   \n",
              "mean   242163.707071   47.897306      0.532816    0.609467    5.469697   \n",
              "std     67305.655426   23.347754      0.147752    0.210018    3.496554   \n",
              "min     96553.000000    0.000000      0.112000    0.052300    0.000000   \n",
              "25%    199164.250000   38.000000      0.429000    0.447250    2.000000   \n",
              "50%    231626.500000   53.000000      0.535500    0.630500    6.000000   \n",
              "75%    275446.250000   64.000000      0.644000    0.788750    9.000000   \n",
              "max    757440.000000   90.000000      0.888000    0.977000   11.000000   \n",
              "\n",
              "         Loudness        Mode  Speechiness  Acousticness  Instrumentalness  \\\n",
              "count  594.000000  594.000000   594.000000    594.000000        594.000000   \n",
              "mean    -8.024519    0.675084     0.049382      0.251596          0.109972   \n",
              "std      3.201484    0.468738     0.040821      0.296811          0.221824   \n",
              "min    -23.625000    0.000000     0.024300      0.000007          0.000000   \n",
              "25%     -9.511500    0.000000     0.031050      0.013650          0.000053   \n",
              "50%     -7.595000    1.000000     0.037600      0.111000          0.002225   \n",
              "75%     -5.644500    1.000000     0.052300      0.410750          0.076550   \n",
              "max     -0.734000    1.000000     0.464000      0.986000          0.954000   \n",
              "\n",
              "         Liveness     Valence       Tempo  \n",
              "count  594.000000  594.000000  594.000000  \n",
              "mean     0.170078    0.439241  124.301288  \n",
              "std      0.126547    0.228532   27.708996  \n",
              "min      0.042600    0.039400   65.740000  \n",
              "25%      0.097675    0.253500  104.981000  \n",
              "50%      0.118000    0.416000  123.166000  \n",
              "75%      0.205750    0.594000  141.366500  \n",
              "max      0.922000    0.979000  206.165000  "
            ],
            "text/html": [
              "\n",
              "  <div id=\"df-a85ac841-fa18-4a4f-9c0a-b37bb4e6c17a\">\n",
              "    <div class=\"colab-df-container\">\n",
              "      <div>\n",
              "<style scoped>\n",
              "    .dataframe tbody tr th:only-of-type {\n",
              "        vertical-align: middle;\n",
              "    }\n",
              "\n",
              "    .dataframe tbody tr th {\n",
              "        vertical-align: top;\n",
              "    }\n",
              "\n",
              "    .dataframe thead th {\n",
              "        text-align: right;\n",
              "    }\n",
              "</style>\n",
              "<table border=\"1\" class=\"dataframe\">\n",
              "  <thead>\n",
              "    <tr style=\"text-align: right;\">\n",
              "      <th></th>\n",
              "      <th>Duration (ms)</th>\n",
              "      <th>Popularity</th>\n",
              "      <th>Danceability</th>\n",
              "      <th>Energy</th>\n",
              "      <th>Key</th>\n",
              "      <th>Loudness</th>\n",
              "      <th>Mode</th>\n",
              "      <th>Speechiness</th>\n",
              "      <th>Acousticness</th>\n",
              "      <th>Instrumentalness</th>\n",
              "      <th>Liveness</th>\n",
              "      <th>Valence</th>\n",
              "      <th>Tempo</th>\n",
              "    </tr>\n",
              "  </thead>\n",
              "  <tbody>\n",
              "    <tr>\n",
              "      <th>count</th>\n",
              "      <td>594.000000</td>\n",
              "      <td>594.000000</td>\n",
              "      <td>594.000000</td>\n",
              "      <td>594.000000</td>\n",
              "      <td>594.000000</td>\n",
              "      <td>594.000000</td>\n",
              "      <td>594.000000</td>\n",
              "      <td>594.000000</td>\n",
              "      <td>594.000000</td>\n",
              "      <td>594.000000</td>\n",
              "      <td>594.000000</td>\n",
              "      <td>594.000000</td>\n",
              "      <td>594.000000</td>\n",
              "    </tr>\n",
              "    <tr>\n",
              "      <th>mean</th>\n",
              "      <td>242163.707071</td>\n",
              "      <td>47.897306</td>\n",
              "      <td>0.532816</td>\n",
              "      <td>0.609467</td>\n",
              "      <td>5.469697</td>\n",
              "      <td>-8.024519</td>\n",
              "      <td>0.675084</td>\n",
              "      <td>0.049382</td>\n",
              "      <td>0.251596</td>\n",
              "      <td>0.109972</td>\n",
              "      <td>0.170078</td>\n",
              "      <td>0.439241</td>\n",
              "      <td>124.301288</td>\n",
              "    </tr>\n",
              "    <tr>\n",
              "      <th>std</th>\n",
              "      <td>67305.655426</td>\n",
              "      <td>23.347754</td>\n",
              "      <td>0.147752</td>\n",
              "      <td>0.210018</td>\n",
              "      <td>3.496554</td>\n",
              "      <td>3.201484</td>\n",
              "      <td>0.468738</td>\n",
              "      <td>0.040821</td>\n",
              "      <td>0.296811</td>\n",
              "      <td>0.221824</td>\n",
              "      <td>0.126547</td>\n",
              "      <td>0.228532</td>\n",
              "      <td>27.708996</td>\n",
              "    </tr>\n",
              "    <tr>\n",
              "      <th>min</th>\n",
              "      <td>96553.000000</td>\n",
              "      <td>0.000000</td>\n",
              "      <td>0.112000</td>\n",
              "      <td>0.052300</td>\n",
              "      <td>0.000000</td>\n",
              "      <td>-23.625000</td>\n",
              "      <td>0.000000</td>\n",
              "      <td>0.024300</td>\n",
              "      <td>0.000007</td>\n",
              "      <td>0.000000</td>\n",
              "      <td>0.042600</td>\n",
              "      <td>0.039400</td>\n",
              "      <td>65.740000</td>\n",
              "    </tr>\n",
              "    <tr>\n",
              "      <th>25%</th>\n",
              "      <td>199164.250000</td>\n",
              "      <td>38.000000</td>\n",
              "      <td>0.429000</td>\n",
              "      <td>0.447250</td>\n",
              "      <td>2.000000</td>\n",
              "      <td>-9.511500</td>\n",
              "      <td>0.000000</td>\n",
              "      <td>0.031050</td>\n",
              "      <td>0.013650</td>\n",
              "      <td>0.000053</td>\n",
              "      <td>0.097675</td>\n",
              "      <td>0.253500</td>\n",
              "      <td>104.981000</td>\n",
              "    </tr>\n",
              "    <tr>\n",
              "      <th>50%</th>\n",
              "      <td>231626.500000</td>\n",
              "      <td>53.000000</td>\n",
              "      <td>0.535500</td>\n",
              "      <td>0.630500</td>\n",
              "      <td>6.000000</td>\n",
              "      <td>-7.595000</td>\n",
              "      <td>1.000000</td>\n",
              "      <td>0.037600</td>\n",
              "      <td>0.111000</td>\n",
              "      <td>0.002225</td>\n",
              "      <td>0.118000</td>\n",
              "      <td>0.416000</td>\n",
              "      <td>123.166000</td>\n",
              "    </tr>\n",
              "    <tr>\n",
              "      <th>75%</th>\n",
              "      <td>275446.250000</td>\n",
              "      <td>64.000000</td>\n",
              "      <td>0.644000</td>\n",
              "      <td>0.788750</td>\n",
              "      <td>9.000000</td>\n",
              "      <td>-5.644500</td>\n",
              "      <td>1.000000</td>\n",
              "      <td>0.052300</td>\n",
              "      <td>0.410750</td>\n",
              "      <td>0.076550</td>\n",
              "      <td>0.205750</td>\n",
              "      <td>0.594000</td>\n",
              "      <td>141.366500</td>\n",
              "    </tr>\n",
              "    <tr>\n",
              "      <th>max</th>\n",
              "      <td>757440.000000</td>\n",
              "      <td>90.000000</td>\n",
              "      <td>0.888000</td>\n",
              "      <td>0.977000</td>\n",
              "      <td>11.000000</td>\n",
              "      <td>-0.734000</td>\n",
              "      <td>1.000000</td>\n",
              "      <td>0.464000</td>\n",
              "      <td>0.986000</td>\n",
              "      <td>0.954000</td>\n",
              "      <td>0.922000</td>\n",
              "      <td>0.979000</td>\n",
              "      <td>206.165000</td>\n",
              "    </tr>\n",
              "  </tbody>\n",
              "</table>\n",
              "</div>\n",
              "      <button class=\"colab-df-convert\" onclick=\"convertToInteractive('df-a85ac841-fa18-4a4f-9c0a-b37bb4e6c17a')\"\n",
              "              title=\"Convert this dataframe to an interactive table.\"\n",
              "              style=\"display:none;\">\n",
              "        \n",
              "  <svg xmlns=\"http://www.w3.org/2000/svg\" height=\"24px\"viewBox=\"0 0 24 24\"\n",
              "       width=\"24px\">\n",
              "    <path d=\"M0 0h24v24H0V0z\" fill=\"none\"/>\n",
              "    <path d=\"M18.56 5.44l.94 2.06.94-2.06 2.06-.94-2.06-.94-.94-2.06-.94 2.06-2.06.94zm-11 1L8.5 8.5l.94-2.06 2.06-.94-2.06-.94L8.5 2.5l-.94 2.06-2.06.94zm10 10l.94 2.06.94-2.06 2.06-.94-2.06-.94-.94-2.06-.94 2.06-2.06.94z\"/><path d=\"M17.41 7.96l-1.37-1.37c-.4-.4-.92-.59-1.43-.59-.52 0-1.04.2-1.43.59L10.3 9.45l-7.72 7.72c-.78.78-.78 2.05 0 2.83L4 21.41c.39.39.9.59 1.41.59.51 0 1.02-.2 1.41-.59l7.78-7.78 2.81-2.81c.8-.78.8-2.07 0-2.86zM5.41 20L4 18.59l7.72-7.72 1.47 1.35L5.41 20z\"/>\n",
              "  </svg>\n",
              "      </button>\n",
              "      \n",
              "  <style>\n",
              "    .colab-df-container {\n",
              "      display:flex;\n",
              "      flex-wrap:wrap;\n",
              "      gap: 12px;\n",
              "    }\n",
              "\n",
              "    .colab-df-convert {\n",
              "      background-color: #E8F0FE;\n",
              "      border: none;\n",
              "      border-radius: 50%;\n",
              "      cursor: pointer;\n",
              "      display: none;\n",
              "      fill: #1967D2;\n",
              "      height: 32px;\n",
              "      padding: 0 0 0 0;\n",
              "      width: 32px;\n",
              "    }\n",
              "\n",
              "    .colab-df-convert:hover {\n",
              "      background-color: #E2EBFA;\n",
              "      box-shadow: 0px 1px 2px rgba(60, 64, 67, 0.3), 0px 1px 3px 1px rgba(60, 64, 67, 0.15);\n",
              "      fill: #174EA6;\n",
              "    }\n",
              "\n",
              "    [theme=dark] .colab-df-convert {\n",
              "      background-color: #3B4455;\n",
              "      fill: #D2E3FC;\n",
              "    }\n",
              "\n",
              "    [theme=dark] .colab-df-convert:hover {\n",
              "      background-color: #434B5C;\n",
              "      box-shadow: 0px 1px 3px 1px rgba(0, 0, 0, 0.15);\n",
              "      filter: drop-shadow(0px 1px 2px rgba(0, 0, 0, 0.3));\n",
              "      fill: #FFFFFF;\n",
              "    }\n",
              "  </style>\n",
              "\n",
              "      <script>\n",
              "        const buttonEl =\n",
              "          document.querySelector('#df-a85ac841-fa18-4a4f-9c0a-b37bb4e6c17a button.colab-df-convert');\n",
              "        buttonEl.style.display =\n",
              "          google.colab.kernel.accessAllowed ? 'block' : 'none';\n",
              "\n",
              "        async function convertToInteractive(key) {\n",
              "          const element = document.querySelector('#df-a85ac841-fa18-4a4f-9c0a-b37bb4e6c17a');\n",
              "          const dataTable =\n",
              "            await google.colab.kernel.invokeFunction('convertToInteractive',\n",
              "                                                     [key], {});\n",
              "          if (!dataTable) return;\n",
              "\n",
              "          const docLinkHtml = 'Like what you see? Visit the ' +\n",
              "            '<a target=\"_blank\" href=https://colab.research.google.com/notebooks/data_table.ipynb>data table notebook</a>'\n",
              "            + ' to learn more about interactive tables.';\n",
              "          element.innerHTML = '';\n",
              "          dataTable['output_type'] = 'display_data';\n",
              "          await google.colab.output.renderOutput(dataTable, element);\n",
              "          const docLink = document.createElement('div');\n",
              "          docLink.innerHTML = docLinkHtml;\n",
              "          element.appendChild(docLink);\n",
              "        }\n",
              "      </script>\n",
              "    </div>\n",
              "  </div>\n",
              "  "
            ]
          },
          "metadata": {},
          "execution_count": 35
        }
      ],
      "source": [
        "#show the statistical summary of columns.\n",
        "df.describe()"
      ]
    },
    {
      "cell_type": "code",
      "execution_count": null,
      "id": "9be5e29f",
      "metadata": {
        "id": "9be5e29f",
        "colab": {
          "base_uri": "https://localhost:8080/"
        },
        "outputId": "0e8687c2-40a6-49d9-b308-754db018b55b"
      },
      "outputs": [
        {
          "output_type": "execute_result",
          "data": {
            "text/plain": [
              "Arctic Monkeys     48\n",
              "Lorde              21\n",
              "Nilüfer Yanya      20\n",
              "Wolf Alice         18\n",
              "Phoebe Bridgers    13\n",
              "The Strokes        13\n",
              "Big Thief          12\n",
              "Alvvays            12\n",
              "alt-J              12\n",
              "girl in red        12\n",
              "Name: Artist Name(s), dtype: int64"
            ]
          },
          "metadata": {},
          "execution_count": 36
        }
      ],
      "source": [
        "#show the most frequent 10 artists in the playlist.\n",
        "(df['Artist Name(s)'].value_counts()).head(10)"
      ]
    },
    {
      "cell_type": "code",
      "execution_count": null,
      "id": "3424e8f4",
      "metadata": {
        "id": "3424e8f4",
        "colab": {
          "base_uri": "https://localhost:8080/"
        },
        "outputId": "12b2c774-e997-4d98-860a-686c1f564c49"
      },
      "outputs": [
        {
          "output_type": "stream",
          "name": "stdout",
          "text": [
            "The most common genre is rock with 235 times.\n"
          ]
        }
      ],
      "source": [
        "#find the most frequent genre in the playlist.\n",
        "df['Genres'] = df['Genres'].astype(str).str.split(',')\n",
        "genres_df = df.explode('Genres')\n",
        "genre_counts = genres_df['Genres'].value_counts()\n",
        "#print the most frequent genre name, and how many time it occurs.\n",
        "print(\"The most common genre is\",genre_counts.index[0],\"with\", genre_counts.iloc[0],\"times.\")\n"
      ]
    },
    {
      "cell_type": "markdown",
      "id": "093c9660",
      "metadata": {
        "id": "093c9660"
      },
      "source": [
        "The most common genre is not surprising since Arctic Monkeys was at the top by far in our most frequent artist list. Our dataset contains lots of technical information about the music. Still, we can create different columns for better information source. In this question, we will apply a pretty basic feature engineering approach. Danceability, Energy and Valence are good indicators for the emotion that conveyed by the track. Create a new column called \"Positivity\" in our dataframe by taking the mean of three columns (Danceability, Energy, Valence) and show the statistical properties with describe again."
      ]
    },
    {
      "cell_type": "code",
      "execution_count": null,
      "id": "fb716630",
      "metadata": {
        "id": "fb716630",
        "colab": {
          "base_uri": "https://localhost:8080/",
          "height": 378
        },
        "outputId": "48af1f63-5bd7-4b4f-d1bf-bbd1f569f108"
      },
      "outputs": [
        {
          "output_type": "execute_result",
          "data": {
            "text/plain": [
              "       Duration (ms)  Popularity  Danceability      Energy         Key  \\\n",
              "count     594.000000  594.000000    594.000000  594.000000  594.000000   \n",
              "mean   242163.707071   47.897306      0.532816    0.609467    5.469697   \n",
              "std     67305.655426   23.347754      0.147752    0.210018    3.496554   \n",
              "min     96553.000000    0.000000      0.112000    0.052300    0.000000   \n",
              "25%    199164.250000   38.000000      0.429000    0.447250    2.000000   \n",
              "50%    231626.500000   53.000000      0.535500    0.630500    6.000000   \n",
              "75%    275446.250000   64.000000      0.644000    0.788750    9.000000   \n",
              "max    757440.000000   90.000000      0.888000    0.977000   11.000000   \n",
              "\n",
              "         Loudness        Mode  Speechiness  Acousticness  Instrumentalness  \\\n",
              "count  594.000000  594.000000   594.000000    594.000000        594.000000   \n",
              "mean    -8.024519    0.675084     0.049382      0.251596          0.109972   \n",
              "std      3.201484    0.468738     0.040821      0.296811          0.221824   \n",
              "min    -23.625000    0.000000     0.024300      0.000007          0.000000   \n",
              "25%     -9.511500    0.000000     0.031050      0.013650          0.000053   \n",
              "50%     -7.595000    1.000000     0.037600      0.111000          0.002225   \n",
              "75%     -5.644500    1.000000     0.052300      0.410750          0.076550   \n",
              "max     -0.734000    1.000000     0.464000      0.986000          0.954000   \n",
              "\n",
              "         Liveness     Valence       Tempo  Positivity  \n",
              "count  594.000000  594.000000  594.000000  594.000000  \n",
              "mean     0.170078    0.439241  124.301288    0.527175  \n",
              "std      0.126547    0.228532   27.708996    0.141960  \n",
              "min      0.042600    0.039400   65.740000    0.164767  \n",
              "25%      0.097675    0.253500  104.981000    0.423750  \n",
              "50%      0.118000    0.416000  123.166000    0.538667  \n",
              "75%      0.205750    0.594000  141.366500    0.622333  \n",
              "max      0.922000    0.979000  206.165000    0.892667  "
            ],
            "text/html": [
              "\n",
              "  <div id=\"df-8ca384e4-7094-4785-9dbf-88fb4713099c\">\n",
              "    <div class=\"colab-df-container\">\n",
              "      <div>\n",
              "<style scoped>\n",
              "    .dataframe tbody tr th:only-of-type {\n",
              "        vertical-align: middle;\n",
              "    }\n",
              "\n",
              "    .dataframe tbody tr th {\n",
              "        vertical-align: top;\n",
              "    }\n",
              "\n",
              "    .dataframe thead th {\n",
              "        text-align: right;\n",
              "    }\n",
              "</style>\n",
              "<table border=\"1\" class=\"dataframe\">\n",
              "  <thead>\n",
              "    <tr style=\"text-align: right;\">\n",
              "      <th></th>\n",
              "      <th>Duration (ms)</th>\n",
              "      <th>Popularity</th>\n",
              "      <th>Danceability</th>\n",
              "      <th>Energy</th>\n",
              "      <th>Key</th>\n",
              "      <th>Loudness</th>\n",
              "      <th>Mode</th>\n",
              "      <th>Speechiness</th>\n",
              "      <th>Acousticness</th>\n",
              "      <th>Instrumentalness</th>\n",
              "      <th>Liveness</th>\n",
              "      <th>Valence</th>\n",
              "      <th>Tempo</th>\n",
              "      <th>Positivity</th>\n",
              "    </tr>\n",
              "  </thead>\n",
              "  <tbody>\n",
              "    <tr>\n",
              "      <th>count</th>\n",
              "      <td>594.000000</td>\n",
              "      <td>594.000000</td>\n",
              "      <td>594.000000</td>\n",
              "      <td>594.000000</td>\n",
              "      <td>594.000000</td>\n",
              "      <td>594.000000</td>\n",
              "      <td>594.000000</td>\n",
              "      <td>594.000000</td>\n",
              "      <td>594.000000</td>\n",
              "      <td>594.000000</td>\n",
              "      <td>594.000000</td>\n",
              "      <td>594.000000</td>\n",
              "      <td>594.000000</td>\n",
              "      <td>594.000000</td>\n",
              "    </tr>\n",
              "    <tr>\n",
              "      <th>mean</th>\n",
              "      <td>242163.707071</td>\n",
              "      <td>47.897306</td>\n",
              "      <td>0.532816</td>\n",
              "      <td>0.609467</td>\n",
              "      <td>5.469697</td>\n",
              "      <td>-8.024519</td>\n",
              "      <td>0.675084</td>\n",
              "      <td>0.049382</td>\n",
              "      <td>0.251596</td>\n",
              "      <td>0.109972</td>\n",
              "      <td>0.170078</td>\n",
              "      <td>0.439241</td>\n",
              "      <td>124.301288</td>\n",
              "      <td>0.527175</td>\n",
              "    </tr>\n",
              "    <tr>\n",
              "      <th>std</th>\n",
              "      <td>67305.655426</td>\n",
              "      <td>23.347754</td>\n",
              "      <td>0.147752</td>\n",
              "      <td>0.210018</td>\n",
              "      <td>3.496554</td>\n",
              "      <td>3.201484</td>\n",
              "      <td>0.468738</td>\n",
              "      <td>0.040821</td>\n",
              "      <td>0.296811</td>\n",
              "      <td>0.221824</td>\n",
              "      <td>0.126547</td>\n",
              "      <td>0.228532</td>\n",
              "      <td>27.708996</td>\n",
              "      <td>0.141960</td>\n",
              "    </tr>\n",
              "    <tr>\n",
              "      <th>min</th>\n",
              "      <td>96553.000000</td>\n",
              "      <td>0.000000</td>\n",
              "      <td>0.112000</td>\n",
              "      <td>0.052300</td>\n",
              "      <td>0.000000</td>\n",
              "      <td>-23.625000</td>\n",
              "      <td>0.000000</td>\n",
              "      <td>0.024300</td>\n",
              "      <td>0.000007</td>\n",
              "      <td>0.000000</td>\n",
              "      <td>0.042600</td>\n",
              "      <td>0.039400</td>\n",
              "      <td>65.740000</td>\n",
              "      <td>0.164767</td>\n",
              "    </tr>\n",
              "    <tr>\n",
              "      <th>25%</th>\n",
              "      <td>199164.250000</td>\n",
              "      <td>38.000000</td>\n",
              "      <td>0.429000</td>\n",
              "      <td>0.447250</td>\n",
              "      <td>2.000000</td>\n",
              "      <td>-9.511500</td>\n",
              "      <td>0.000000</td>\n",
              "      <td>0.031050</td>\n",
              "      <td>0.013650</td>\n",
              "      <td>0.000053</td>\n",
              "      <td>0.097675</td>\n",
              "      <td>0.253500</td>\n",
              "      <td>104.981000</td>\n",
              "      <td>0.423750</td>\n",
              "    </tr>\n",
              "    <tr>\n",
              "      <th>50%</th>\n",
              "      <td>231626.500000</td>\n",
              "      <td>53.000000</td>\n",
              "      <td>0.535500</td>\n",
              "      <td>0.630500</td>\n",
              "      <td>6.000000</td>\n",
              "      <td>-7.595000</td>\n",
              "      <td>1.000000</td>\n",
              "      <td>0.037600</td>\n",
              "      <td>0.111000</td>\n",
              "      <td>0.002225</td>\n",
              "      <td>0.118000</td>\n",
              "      <td>0.416000</td>\n",
              "      <td>123.166000</td>\n",
              "      <td>0.538667</td>\n",
              "    </tr>\n",
              "    <tr>\n",
              "      <th>75%</th>\n",
              "      <td>275446.250000</td>\n",
              "      <td>64.000000</td>\n",
              "      <td>0.644000</td>\n",
              "      <td>0.788750</td>\n",
              "      <td>9.000000</td>\n",
              "      <td>-5.644500</td>\n",
              "      <td>1.000000</td>\n",
              "      <td>0.052300</td>\n",
              "      <td>0.410750</td>\n",
              "      <td>0.076550</td>\n",
              "      <td>0.205750</td>\n",
              "      <td>0.594000</td>\n",
              "      <td>141.366500</td>\n",
              "      <td>0.622333</td>\n",
              "    </tr>\n",
              "    <tr>\n",
              "      <th>max</th>\n",
              "      <td>757440.000000</td>\n",
              "      <td>90.000000</td>\n",
              "      <td>0.888000</td>\n",
              "      <td>0.977000</td>\n",
              "      <td>11.000000</td>\n",
              "      <td>-0.734000</td>\n",
              "      <td>1.000000</td>\n",
              "      <td>0.464000</td>\n",
              "      <td>0.986000</td>\n",
              "      <td>0.954000</td>\n",
              "      <td>0.922000</td>\n",
              "      <td>0.979000</td>\n",
              "      <td>206.165000</td>\n",
              "      <td>0.892667</td>\n",
              "    </tr>\n",
              "  </tbody>\n",
              "</table>\n",
              "</div>\n",
              "      <button class=\"colab-df-convert\" onclick=\"convertToInteractive('df-8ca384e4-7094-4785-9dbf-88fb4713099c')\"\n",
              "              title=\"Convert this dataframe to an interactive table.\"\n",
              "              style=\"display:none;\">\n",
              "        \n",
              "  <svg xmlns=\"http://www.w3.org/2000/svg\" height=\"24px\"viewBox=\"0 0 24 24\"\n",
              "       width=\"24px\">\n",
              "    <path d=\"M0 0h24v24H0V0z\" fill=\"none\"/>\n",
              "    <path d=\"M18.56 5.44l.94 2.06.94-2.06 2.06-.94-2.06-.94-.94-2.06-.94 2.06-2.06.94zm-11 1L8.5 8.5l.94-2.06 2.06-.94-2.06-.94L8.5 2.5l-.94 2.06-2.06.94zm10 10l.94 2.06.94-2.06 2.06-.94-2.06-.94-.94-2.06-.94 2.06-2.06.94z\"/><path d=\"M17.41 7.96l-1.37-1.37c-.4-.4-.92-.59-1.43-.59-.52 0-1.04.2-1.43.59L10.3 9.45l-7.72 7.72c-.78.78-.78 2.05 0 2.83L4 21.41c.39.39.9.59 1.41.59.51 0 1.02-.2 1.41-.59l7.78-7.78 2.81-2.81c.8-.78.8-2.07 0-2.86zM5.41 20L4 18.59l7.72-7.72 1.47 1.35L5.41 20z\"/>\n",
              "  </svg>\n",
              "      </button>\n",
              "      \n",
              "  <style>\n",
              "    .colab-df-container {\n",
              "      display:flex;\n",
              "      flex-wrap:wrap;\n",
              "      gap: 12px;\n",
              "    }\n",
              "\n",
              "    .colab-df-convert {\n",
              "      background-color: #E8F0FE;\n",
              "      border: none;\n",
              "      border-radius: 50%;\n",
              "      cursor: pointer;\n",
              "      display: none;\n",
              "      fill: #1967D2;\n",
              "      height: 32px;\n",
              "      padding: 0 0 0 0;\n",
              "      width: 32px;\n",
              "    }\n",
              "\n",
              "    .colab-df-convert:hover {\n",
              "      background-color: #E2EBFA;\n",
              "      box-shadow: 0px 1px 2px rgba(60, 64, 67, 0.3), 0px 1px 3px 1px rgba(60, 64, 67, 0.15);\n",
              "      fill: #174EA6;\n",
              "    }\n",
              "\n",
              "    [theme=dark] .colab-df-convert {\n",
              "      background-color: #3B4455;\n",
              "      fill: #D2E3FC;\n",
              "    }\n",
              "\n",
              "    [theme=dark] .colab-df-convert:hover {\n",
              "      background-color: #434B5C;\n",
              "      box-shadow: 0px 1px 3px 1px rgba(0, 0, 0, 0.15);\n",
              "      filter: drop-shadow(0px 1px 2px rgba(0, 0, 0, 0.3));\n",
              "      fill: #FFFFFF;\n",
              "    }\n",
              "  </style>\n",
              "\n",
              "      <script>\n",
              "        const buttonEl =\n",
              "          document.querySelector('#df-8ca384e4-7094-4785-9dbf-88fb4713099c button.colab-df-convert');\n",
              "        buttonEl.style.display =\n",
              "          google.colab.kernel.accessAllowed ? 'block' : 'none';\n",
              "\n",
              "        async function convertToInteractive(key) {\n",
              "          const element = document.querySelector('#df-8ca384e4-7094-4785-9dbf-88fb4713099c');\n",
              "          const dataTable =\n",
              "            await google.colab.kernel.invokeFunction('convertToInteractive',\n",
              "                                                     [key], {});\n",
              "          if (!dataTable) return;\n",
              "\n",
              "          const docLinkHtml = 'Like what you see? Visit the ' +\n",
              "            '<a target=\"_blank\" href=https://colab.research.google.com/notebooks/data_table.ipynb>data table notebook</a>'\n",
              "            + ' to learn more about interactive tables.';\n",
              "          element.innerHTML = '';\n",
              "          dataTable['output_type'] = 'display_data';\n",
              "          await google.colab.output.renderOutput(dataTable, element);\n",
              "          const docLink = document.createElement('div');\n",
              "          docLink.innerHTML = docLinkHtml;\n",
              "          element.appendChild(docLink);\n",
              "        }\n",
              "      </script>\n",
              "    </div>\n",
              "  </div>\n",
              "  "
            ]
          },
          "metadata": {},
          "execution_count": 38
        }
      ],
      "source": [
        "#create a new column\n",
        "df[\"Positivity\"] = df[[\"Danceability\", \"Energy\", \"Valence\"]].mean(axis=1)\n",
        "df.to_csv(\"updated_file.csv\", index=False)\n",
        "#show the statistical properties\n",
        "df.describe()"
      ]
    },
    {
      "cell_type": "code",
      "execution_count": null,
      "id": "3f45b5e7",
      "metadata": {
        "id": "3f45b5e7",
        "colab": {
          "base_uri": "https://localhost:8080/"
        },
        "outputId": "3df81e24-9dd5-44a7-f9c7-902dbb2cec34"
      },
      "outputs": [
        {
          "output_type": "stream",
          "name": "stdout",
          "text": [
            "         Track Name Album Name  Artist Name(s) Release Date  Duration (ms)  \\\n",
            "0  Crying Lightning     Humbug  Arctic Monkeys   2009-08-20         224826   \n",
            "\n",
            "   Popularity                                             Genres  \\\n",
            "0          67  [garage rock, modern rock, permanent wave, roc...   \n",
            "\n",
            "   Danceability  Energy  Key  Loudness  Mode  Speechiness  Acousticness  \\\n",
            "0         0.498   0.885    4    -4.423     0       0.0461        0.0148   \n",
            "\n",
            "   Instrumentalness  Liveness  Valence    Tempo  Positivity  \n",
            "0           0.00041     0.239     0.67  106.719    0.684333  \n"
          ]
        }
      ],
      "source": [
        "#filter the crying lightning\n",
        "filtered_light = df[df['Track Name'] == 'Crying Lightning']\n",
        "print(filtered_light)"
      ]
    },
    {
      "cell_type": "markdown",
      "id": "1a542ee3",
      "metadata": {
        "id": "1a542ee3"
      },
      "source": [
        "After we filtered Crying Lightning, let's learn more about some columns of the dataset. In this question, create a new dataframe called \"energetic_df\" by sorting the energy column of \"playlist_df\". Sorting must be descending. Then show the most energetic three songs in the playlist with their information."
      ]
    },
    {
      "cell_type": "code",
      "execution_count": null,
      "id": "3b461870",
      "metadata": {
        "id": "3b461870",
        "colab": {
          "base_uri": "https://localhost:8080/"
        },
        "outputId": "69b56d61-4b06-4c5e-cdf2-d9c1cbd41c64"
      },
      "outputs": [
        {
          "output_type": "stream",
          "name": "stdout",
          "text": [
            "The most energetic three songs in the playlist is:\n",
            "     Track Name                   Album Name         Artist Name(s)  \\\n",
            "234   Sugar/Tzu                     Hellfire             black midi   \n",
            "188  Brianstorm    Favourite Worst Nightmare         Arctic Monkeys   \n",
            "326  By the Way  By the Way (Deluxe Edition)  Red Hot Chili Peppers   \n",
            "\n",
            "    Release Date  Duration (ms)  Popularity  \\\n",
            "234   2022-07-15         230687          48   \n",
            "188   2007-04-22         172866          68   \n",
            "326   2002-07-09         216933          72   \n",
            "\n",
            "                                                Genres  Danceability  Energy  \\\n",
            "234  [crank wave, indie rock, noise rock, uk noise ...         0.275   0.977   \n",
            "188  [garage rock, modern rock, permanent wave, roc...         0.420   0.974   \n",
            "326  [alternative rock, funk metal, funk rock, perm...         0.451   0.970   \n",
            "\n",
            "     Key  Loudness  Mode  Speechiness  Acousticness  Instrumentalness  \\\n",
            "234    0    -4.418     1        0.378      0.105000          0.000011   \n",
            "188    1    -4.706     1        0.191      0.000082          0.001550   \n",
            "326    0    -4.938     1        0.107      0.026400          0.003550   \n",
            "\n",
            "     Liveness  Valence    Tempo  Positivity  \n",
            "234    0.4720    0.101   87.678    0.451000  \n",
            "188    0.0871    0.463  165.182    0.619000  \n",
            "326    0.1020    0.198  122.444    0.539667  \n"
          ]
        }
      ],
      "source": [
        "#create energetic df\n",
        "print(\"The most energetic three songs in the playlist is:\")\n",
        "energetic_df = df.sort_values('Energy', ascending=False)\n",
        "print(energetic_df.head(3)[['Track Name', 'Album Name', 'Artist Name(s)', 'Release Date', 'Duration (ms)', 'Popularity', 'Genres', 'Danceability', 'Energy', 'Key', 'Loudness', 'Mode', 'Speechiness', 'Acousticness', 'Instrumentalness', 'Liveness', 'Valence', 'Tempo', 'Positivity']])\n"
      ]
    },
    {
      "cell_type": "markdown",
      "id": "4616cf25",
      "metadata": {
        "id": "4616cf25"
      },
      "source": [
        "Let's apply the same method to an another column. In this question, create a new dataframe called \"positivity_df\" by sorting the positivity column of \"playlist_df\". Sorting must be descending. Then show the most positive three songs in the playlist with their information."
      ]
    },
    {
      "cell_type": "code",
      "execution_count": null,
      "id": "9fc8d2b9",
      "metadata": {
        "scrolled": false,
        "id": "9fc8d2b9",
        "colab": {
          "base_uri": "https://localhost:8080/"
        },
        "outputId": "f104e2b3-5f87-4a70-add7-993578c8c60c"
      },
      "outputs": [
        {
          "output_type": "stream",
          "name": "stdout",
          "text": [
            "The most positive three songs in the playlist is:\n",
            "                                   Track Name  \\\n",
            "559                                  chase me   \n",
            "255                                 Ocean Man   \n",
            "536  Got My Mind Set On You - Remastered 2004   \n",
            "\n",
            "                                            Album Name   Artist Name(s)  \\\n",
            "559                                           PAINLESS    Nilüfer Yanya   \n",
            "255  The SpongeBob SquarePants Movie-Music From The...             Ween   \n",
            "536                                         Cloud Nine  George Harrison   \n",
            "\n",
            "    Release Date  Duration (ms)  Popularity  \\\n",
            "559   2022-03-04         210373          31   \n",
            "255   2004-11-09         126946          38   \n",
            "536   1987-11-02         234653          63   \n",
            "\n",
            "                                                Genres  Danceability  Energy  \\\n",
            "559          [art pop, indie rock, uk alternative pop]         0.867   0.832   \n",
            "255                                 [alternative rock]         0.720   0.912   \n",
            "536  [album rock, beatlesque, classic rock, folk ro...         0.767   0.854   \n",
            "\n",
            "     Key  Loudness  Mode  Speechiness  Acousticness  Instrumentalness  \\\n",
            "559   11    -8.383     0       0.0453         0.113          0.000000   \n",
            "255    4    -6.130     1       0.0363         0.551          0.001220   \n",
            "536    4    -6.947     1       0.0426         0.465          0.000002   \n",
            "\n",
            "     Liveness  Valence    Tempo  Positivity  \n",
            "559    0.0745    0.979  119.993    0.892667  \n",
            "255    0.0982    0.973  122.782    0.868333  \n",
            "536    0.4850    0.963  149.206    0.861333  \n"
          ]
        }
      ],
      "source": [
        "#create positivity df\n",
        "print(\"The most positive three songs in the playlist is:\")\n",
        "#your code\n",
        "positivity_df = df.sort_values('Positivity', ascending=False)\n",
        "print(positivity_df.head(3)[['Track Name', 'Album Name', 'Artist Name(s)', 'Release Date', 'Duration (ms)', 'Popularity', 'Genres', 'Danceability', 'Energy', 'Key', 'Loudness', 'Mode', 'Speechiness', 'Acousticness', 'Instrumentalness', 'Liveness', 'Valence', 'Tempo', 'Positivity']])\n"
      ]
    },
    {
      "cell_type": "markdown",
      "id": "76803b5a",
      "metadata": {
        "id": "76803b5a"
      },
      "source": [
        "## Visualization and Analysis"
      ]
    },
    {
      "cell_type": "markdown",
      "id": "a443861f",
      "metadata": {
        "id": "a443861f"
      },
      "source": [
        "We learned many things about our dataset. Now let's create some visualizations using tools like Matplotlib, Seaborn etc."
      ]
    },
    {
      "cell_type": "code",
      "execution_count": null,
      "id": "105d881d",
      "metadata": {
        "id": "105d881d",
        "colab": {
          "base_uri": "https://localhost:8080/",
          "height": 295
        },
        "outputId": "05661837-789c-45d7-f404-0d2271fd7c02"
      },
      "outputs": [
        {
          "output_type": "display_data",
          "data": {
            "text/plain": [
              "<Figure size 432x288 with 1 Axes>"
            ],
            "image/png": "[encoded data removed]"
          },
          "metadata": {
            "needs_background": "light"
          }
        }
      ],
      "source": [
        "# create a histogram with the information above\n",
        "bin_size = 15\n",
        "plt.hist(df['Danceability'], bins = bin_size)\n",
        "plt.title('Danceability')\n",
        "plt.xlabel('Danceability')\n",
        "plt.ylabel('Frequencies')\n",
        "plt.xlim(0, 1)\n",
        "plt.ylim(0, 100)\n",
        "\n",
        "plt.show()\n"
      ]
    },
    {
      "cell_type": "code",
      "execution_count": null,
      "id": "8cabae26",
      "metadata": {
        "id": "8cabae26",
        "colab": {
          "base_uri": "https://localhost:8080/"
        },
        "outputId": "c6a2e66d-5274-4dc7-c24f-002d9ac85d9d"
      },
      "outputs": [
        {
          "output_type": "stream",
          "name": "stdout",
          "text": [
            "count    594.000000\n",
            "mean       0.532816\n",
            "std        0.147752\n",
            "min        0.112000\n",
            "25%        0.429000\n",
            "50%        0.535500\n",
            "75%        0.644000\n",
            "max        0.888000\n",
            "Name: Danceability, dtype: float64\n"
          ]
        }
      ],
      "source": [
        "#show the statistical properties\n",
        "print(df['Danceability'].describe())"
      ]
    },
    {
      "cell_type": "markdown",
      "id": "563c17f8",
      "metadata": {
        "id": "563c17f8"
      },
      "source": [
        "If we analyze the results, we see that the distribution of the 'Danceability' of the tracks in our data set is close to normal distribution. The mean is 0.532816 with a standard deviation 0.147752. The danceability level vary from 0.112000 to 0.888000 (both inclusive). The median is 0.535500."
      ]
    },
    {
      "cell_type": "code",
      "execution_count": null,
      "id": "834c778c",
      "metadata": {
        "id": "834c778c",
        "colab": {
          "base_uri": "https://localhost:8080/",
          "height": 295
        },
        "outputId": "9dca8d3f-1690-4a7f-862d-944d1e47ae2f"
      },
      "outputs": [
        {
          "output_type": "display_data",
          "data": {
            "text/plain": [
              "<Figure size 432x288 with 1 Axes>"
            ],
            "image/png": "[encoded data removed]"
          },
          "metadata": {
            "needs_background": "light"
          }
        }
      ],
      "source": [
        "# create a histogram with the information above\n",
        "plt.hist(df['Valence'], bins=15)\n",
        "plt.title('Valence Level')\n",
        "plt.xlabel('Valence')\n",
        "plt.ylabel('Frequencies')\n",
        "plt.ylim([0, 100])\n",
        "plt.xlim([0, 1])\n",
        "\n",
        "plt.show()"
      ]
    },
    {
      "cell_type": "code",
      "execution_count": null,
      "id": "b245626e",
      "metadata": {
        "id": "b245626e",
        "colab": {
          "base_uri": "https://localhost:8080/"
        },
        "outputId": "1661e65c-f873-431a-c048-7fd1f1f51ac0"
      },
      "outputs": [
        {
          "output_type": "stream",
          "name": "stdout",
          "text": [
            "count    594.000000\n",
            "mean       0.439241\n",
            "std        0.228532\n",
            "min        0.039400\n",
            "25%        0.253500\n",
            "50%        0.416000\n",
            "75%        0.594000\n",
            "max        0.979000\n",
            "Name: Valence, dtype: float64\n"
          ]
        }
      ],
      "source": [
        "#show the statistical properties\n",
        "print(df['Valence'].describe())"
      ]
    },
    {
      "cell_type": "markdown",
      "id": "bc0226e2",
      "metadata": {
        "id": "bc0226e2"
      },
      "source": [
        "If we analyze the results, we see that the distribution of the 'Valence' of the tracks in our data set is right-skewed. The mean is 0.439241 with a standard deviation 0.0.228532. The valence level vary from 0.039400 to 0.979000 (both inclusive). The median is 0.416000.\n",
        "\n",
        "Now let's do some bi-variate analysis.\n",
        "\n",
        "If we want to plot the relationship between Energy and Loudness, which plot would be the appropriate choice?\n",
        "\n",
        "*Answer* : I would prefer scatter plot because it would show exactly how they are related like \"If Loudness increases, does Energy is also increase?\". Basically, what I mean is we will be able to see correlation between loudness and energy. So, scatter plot will help us to comment on data we have by visualizing easily."
      ]
    },
    {
      "cell_type": "code",
      "execution_count": null,
      "id": "14615a0d",
      "metadata": {
        "id": "14615a0d",
        "colab": {
          "base_uri": "https://localhost:8080/",
          "height": 295
        },
        "outputId": "eca09508-2302-4807-ea74-4c60073288e2"
      },
      "outputs": [
        {
          "output_type": "display_data",
          "data": {
            "text/plain": [
              "<Figure size 432x288 with 1 Axes>"
            ],
            "image/png": "[encoded data removed]"
          },
          "metadata": {
            "needs_background": "light"
          }
        }
      ],
      "source": [
        " # create the plot\n",
        "\n",
        "plt.scatter(df['Energy'], df['Loudness'])\n",
        "plt.title('Loudness vs. Energy')\n",
        "plt.xlabel('Energy')\n",
        "plt.ylabel('Loudness (dB)')\n",
        "plt.ylim(-25, 0)\n",
        "plt.xlim(0, 1)\n",
        "\n",
        "plt.show()"
      ]
    },
    {
      "cell_type": "markdown",
      "id": "513f333b",
      "metadata": {
        "id": "513f333b"
      },
      "source": [
        "#### Question : Interpretation of the graph above\n",
        "\n",
        "\n",
        "We can clearly say that Loudness and Energy has positive correlation between them. As the loudness of music increases, energy of the music will increase as well. Also, increase in energy might be the reason about loudness as well. Data shows us like that.\n",
        "In addition, for the part 0 to 0.2 energy; we do not see many data. However, it appears that some of the music with lower decibal results the increase in energy as well."
      ]
    },
    {
      "cell_type": "code",
      "execution_count": null,
      "id": "daa97eaa",
      "metadata": {
        "id": "daa97eaa",
        "colab": {
          "base_uri": "https://localhost:8080/"
        },
        "outputId": "fc305582-904e-4743-a503-c2bcc5a6a0ed"
      },
      "outputs": [
        {
          "output_type": "stream",
          "name": "stdout",
          "text": [
            "         Track Name            Album Name   Artist Name(s) Release Date  \\\n",
            "193   Smoke Signals  Stranger in the Alps  Phoebe Bridgers   2017-09-22   \n",
            "267         Funeral  Stranger in the Alps  Phoebe Bridgers   2017-09-22   \n",
            "349       Moon Song              Punisher  Phoebe Bridgers   2020-06-18   \n",
            "329        Punisher              Punisher  Phoebe Bridgers   2020-06-18   \n",
            "295  I Know The End              Punisher  Phoebe Bridgers   2020-06-18   \n",
            "\n",
            "     Duration (ms)  Popularity                 Genres  Danceability  Energy  \\\n",
            "193         324773          61  [indie pop, la indie]         0.265   0.237   \n",
            "267         232373          65  [indie pop, la indie]         0.218   0.263   \n",
            "349         277676           0  [indie pop, la indie]         0.380   0.240   \n",
            "329         189622           0  [indie pop, la indie]         0.428   0.226   \n",
            "295         344692          70  [indie pop, la indie]         0.323   0.323   \n",
            "\n",
            "     Key  Loudness  Mode  Speechiness  Acousticness  Instrumentalness  \\\n",
            "193   10   -14.599     1       0.0351         0.945          0.000267   \n",
            "267   11   -14.416     1       0.0376         0.947          0.000280   \n",
            "349    1   -12.544     1       0.0514         0.871          0.002870   \n",
            "329    1   -12.820     1       0.0409         0.986          0.000402   \n",
            "295    1   -10.268     1       0.0351         0.330          0.022900   \n",
            "\n",
            "     Liveness  Valence    Tempo  Positivity Emotion  \n",
            "193    0.1120    0.190   87.912    0.230667     Sad  \n",
            "267    0.0919    0.307  170.724    0.262667     Sad  \n",
            "349    0.1070    0.172  103.818    0.264000     Sad  \n",
            "329    0.1080    0.212  129.163    0.288667     Sad  \n",
            "295    0.2330    0.256  111.826    0.300667     Sad  \n"
          ]
        }
      ],
      "source": [
        "df.loc[df['Positivity'] <= 0.45, 'Emotion'] = 'Sad'\n",
        "df.loc[(df['Positivity'] > 0.45) & (df['Positivity'] <= 0.57), 'Emotion'] = 'Neutral'\n",
        "df.loc[df['Positivity'] > 0.57, 'Emotion'] = 'Happy'\n",
        "\n",
        "new_artist_df = df[df['Artist Name(s)'].isin(['Phoebe Bridgers', 'The Strokes', 'alt-J', 'girl in red'])].sort_values(by=['Positivity'], ascending = True)\n",
        "\n",
        "print(new_artist_df.head(5))"
      ]
    },
    {
      "cell_type": "code",
      "execution_count": null,
      "id": "131e33ba",
      "metadata": {
        "id": "131e33ba",
        "colab": {
          "base_uri": "https://localhost:8080/",
          "height": 404
        },
        "outputId": "560f7497-9fec-4a8a-f3e6-cb9a5b5c3120"
      },
      "outputs": [
        {
          "output_type": "display_data",
          "data": {
            "text/plain": [
              "<Figure size 576x432 with 1 Axes>"
            ],
            "image/png": "[encoded data removed]"
          },
          "metadata": {
            "needs_background": "light"
          }
        }
      ],
      "source": [
        "count = new_artist_df.groupby(['Artist Name(s)', 'Emotion']).size().reset_index(name='Frequency')\n",
        "plt.figure(figsize=(8,6))\n",
        "sns.barplot(\n",
        "    hue = 'Artist Name(s)', hue_order = ['Phoebe Bridgers', 'girl in red', 'alt-J', 'The Strokes'],\n",
        "    order = ['Sad', 'Neutral', 'Happy'],\n",
        "    x = 'Emotion',y = 'Frequency',\n",
        "    data = count,\n",
        "    palette = ['#7e1e9c', '#c94cbe', '#fa4224', '#f29e8e']\n",
        "\n",
        ")\n",
        "plt.title(\"Artists' Emotional State\")\n",
        "plt.xlabel('Emotions')\n",
        "plt.ylabel('Frequencies')\n",
        "plt.ylim([0, 10])\n",
        "\n",
        "plt.show()"
      ]
    },
    {
      "cell_type": "markdown",
      "id": "84b32c14",
      "metadata": {
        "id": "84b32c14"
      },
      "source": [
        "**If you want to listen to the playlist we analyzed:**\n",
        "https://open.spotify.com/playlist/5TPzjEydJcgbNj7xLwKQVG?si=669fdd7512c44d96\n",
        "\n",
        "See you later!\n",
        "    \n",
        "<img src=\"https://i.imgur.com/KAoQCQg.png\" alt=\"barplot-210\" border=\"0\" width=\"300\">\n",
        "\n",
        "***dall-e prompt***: an oil painting of data science student does homework in pain\n",
        "\n"
      ]
    }
  ],
  "metadata": {
    "kernelspec": {
      "display_name": "Python 3 (ipykernel)",
      "language": "python",
      "name": "python3"
    },
    "language_info": {
      "codemirror_mode": {
        "name": "ipython",
        "version": 3
      },
      "file_extension": ".py",
      "mimetype": "text/x-python",
      "name": "python",
      "nbconvert_exporter": "python",
      "pygments_lexer": "ipython3",
      "version": "3.9.13"
    },
    "colab": {
      "provenance": []
    }
  },
  "nbformat": 4,
  "nbformat_minor": 5
}